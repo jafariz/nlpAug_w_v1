{
  "nbformat": 4,
  "nbformat_minor": 0,
  "metadata": {
    "colab": {
      "provenance": [],
      "authorship_tag": "ABX9TyNQSKsFxD1kjPAulDaUg3Jc",
      "include_colab_link": true
    },
    "kernelspec": {
      "name": "python3",
      "display_name": "Python 3"
    },
    "language_info": {
      "name": "python"
    }
  },
  "cells": [
    {
      "cell_type": "markdown",
      "metadata": {
        "id": "view-in-github",
        "colab_type": "text"
      },
      "source": [
        "<a href=\"https://colab.research.google.com/github/jafariz/nlpAug_w_v1/blob/main/SQuAD_DataAugmentation_v1.ipynb\" target=\"_parent\"><img src=\"https://colab.research.google.com/assets/colab-badge.svg\" alt=\"Open In Colab\"/></a>"
      ]
    },
    {
      "cell_type": "markdown",
      "source": [
        "Function to convert SQuAD dataset from json format to dataframe. Introduced in this url:\n",
        "https://gist.github.com/vgaraujov/fd17b0c151657fbce73189a98617f1c6\n",
        "\n",
        "\n",
        "SQuAD2.0 dataset (training set part) is read from github repository\n",
        "\n",
        "url: https://rajpurkar.github.io/SQuAD-explorer/dataset/train-v2.0.json"
      ],
      "metadata": {
        "id": "jHGFXJaCYdde"
      }
    },
    {
      "cell_type": "code",
      "execution_count": null,
      "metadata": {
        "colab": {
          "base_uri": "https://localhost:8080/"
        },
        "id": "mD734o4wPUY3",
        "outputId": "4b954959-71c0-4e1d-b99a-8dd861f26f8a"
      },
      "outputs": [
        {
          "output_type": "execute_result",
          "data": {
            "text/plain": [
              "0          Beyoncé\n",
              "1          Beyoncé\n",
              "2          Beyoncé\n",
              "3          Beyoncé\n",
              "4          Beyoncé\n",
              "           ...    \n",
              "86816    Kathmandu\n",
              "86817    Kathmandu\n",
              "86818    Kathmandu\n",
              "86819    Kathmandu\n",
              "86820    Kathmandu\n",
              "Name: title, Length: 86821, dtype: object"
            ]
          },
          "metadata": {},
          "execution_count": 1
        }
      ],
      "source": [
        "import pandas as pd\n",
        "import json\n",
        "import urllib\n",
        "\n",
        "def json_to_dataframe(file):\n",
        "    f = urllib.request.urlopen(file)\n",
        "    data = json.loads(f.read())               #loading the json file.\n",
        "    iid = []\n",
        "    tit = []                                  #Creating empty lists to store values.\n",
        "    con = []\n",
        "    Que = []\n",
        "    Ans_st = []\n",
        "    Txt = []\n",
        "\n",
        "    for i in range(len(data['data'])):       #Root tag of the json file contains 'title' tag & 'paragraphs' list.\n",
        "        title = data['data'][i]['title']\n",
        "        for p in range(len(data['data'][i]['paragraphs'])):  # 'paragraphs' list contains 'context' tag & 'qas' list.\n",
        "            context = data['data'][i]['paragraphs'][p]['context']\n",
        "            for q in range(len(data['data'][i]['paragraphs'][p]['qas'])):  # 'qas' list contains 'question', 'Id' tag & 'answers' list.\n",
        "                question = data['data'][i]['paragraphs'][p]['qas'][q]['question']\n",
        "                Id = data['data'][i]['paragraphs'][p]['qas'][q]['id']\n",
        "                for a in range(len(data['data'][i]['paragraphs'][p]['qas'][q]['answers'])): # 'answers' list contains 'ans_start', 'text' tags.\n",
        "                    ans_start = data['data'][i]['paragraphs'][p]['qas'][q]['answers'][a]['answer_start']\n",
        "                    text = data['data'][i]['paragraphs'][p]['qas'][q]['answers'][a]['text']\n",
        "\n",
        "                    tit.append(title)\n",
        "                    con.append(context)\n",
        "                    Que.append(question)                    # Appending values to lists\n",
        "                    iid.append(Id)\n",
        "                    Ans_st.append(ans_start)\n",
        "                    Txt.append(text)\n",
        "\n",
        "    new_df = pd.DataFrame(columns=['Id','title','context','question','ans_start','text']) # Creating empty DataFrame.\n",
        "    new_df.Id = iid\n",
        "    new_df.title = tit           #intializing list values to the DataFrame.\n",
        "    new_df.context = con\n",
        "    new_df.question = Que\n",
        "    new_df.ans_start = Ans_st\n",
        "    new_df.text = Txt\n",
        "\n",
        "    final_df = new_df.drop_duplicates(keep='first')  # Dropping duplicate rows from the create Dataframe.\n",
        "    return final_df\n",
        "\n",
        "squad2 = json_to_dataframe(\"https://rajpurkar.github.io/SQuAD-explorer/dataset/train-v2.0.json\")\n",
        "squad2.title\n"
      ]
    },
    {
      "cell_type": "code",
      "source": [
        "sqStr = squad2.context.astype(str)"
      ],
      "metadata": {
        "id": "jmy0z2DiHOM_"
      },
      "execution_count": null,
      "outputs": []
    },
    {
      "cell_type": "markdown",
      "source": [
        "Augmentation:\n",
        "nlpAug installation"
      ],
      "metadata": {
        "id": "6-7MpZ_GZrpy"
      }
    },
    {
      "cell_type": "code",
      "source": [
        "!pip install numpy requests nlpaug\n"
      ],
      "metadata": {
        "colab": {
          "base_uri": "https://localhost:8080/"
        },
        "id": "i6vv5JUtZqNt",
        "outputId": "4b7bc4e4-d19f-4e6d-e983-2eb52e7a023d"
      },
      "execution_count": null,
      "outputs": [
        {
          "output_type": "stream",
          "name": "stdout",
          "text": [
            "Requirement already satisfied: numpy in /usr/local/lib/python3.10/dist-packages (1.23.5)\n",
            "Requirement already satisfied: requests in /usr/local/lib/python3.10/dist-packages (2.31.0)\n",
            "Requirement already satisfied: nlpaug in /usr/local/lib/python3.10/dist-packages (1.1.11)\n",
            "Requirement already satisfied: charset-normalizer<4,>=2 in /usr/local/lib/python3.10/dist-packages (from requests) (3.2.0)\n",
            "Requirement already satisfied: idna<4,>=2.5 in /usr/local/lib/python3.10/dist-packages (from requests) (3.4)\n",
            "Requirement already satisfied: urllib3<3,>=1.21.1 in /usr/local/lib/python3.10/dist-packages (from requests) (2.0.4)\n",
            "Requirement already satisfied: certifi>=2017.4.17 in /usr/local/lib/python3.10/dist-packages (from requests) (2023.7.22)\n",
            "Requirement already satisfied: pandas>=1.2.0 in /usr/local/lib/python3.10/dist-packages (from nlpaug) (1.5.3)\n",
            "Requirement already satisfied: gdown>=4.0.0 in /usr/local/lib/python3.10/dist-packages (from nlpaug) (4.6.6)\n",
            "Requirement already satisfied: filelock in /usr/local/lib/python3.10/dist-packages (from gdown>=4.0.0->nlpaug) (3.12.2)\n",
            "Requirement already satisfied: six in /usr/local/lib/python3.10/dist-packages (from gdown>=4.0.0->nlpaug) (1.16.0)\n",
            "Requirement already satisfied: tqdm in /usr/local/lib/python3.10/dist-packages (from gdown>=4.0.0->nlpaug) (4.66.1)\n",
            "Requirement already satisfied: beautifulsoup4 in /usr/local/lib/python3.10/dist-packages (from gdown>=4.0.0->nlpaug) (4.11.2)\n",
            "Requirement already satisfied: python-dateutil>=2.8.1 in /usr/local/lib/python3.10/dist-packages (from pandas>=1.2.0->nlpaug) (2.8.2)\n",
            "Requirement already satisfied: pytz>=2020.1 in /usr/local/lib/python3.10/dist-packages (from pandas>=1.2.0->nlpaug) (2023.3.post1)\n",
            "Requirement already satisfied: soupsieve>1.2 in /usr/local/lib/python3.10/dist-packages (from beautifulsoup4->gdown>=4.0.0->nlpaug) (2.5)\n",
            "Requirement already satisfied: PySocks!=1.5.7,>=1.5.6 in /usr/local/lib/python3.10/dist-packages (from requests) (1.7.1)\n"
          ]
        }
      ]
    },
    {
      "cell_type": "code",
      "source": [
        "import nlpaug.augmenter.word as naw"
      ],
      "metadata": {
        "id": "0LjJwLVNOUJC"
      },
      "execution_count": null,
      "outputs": []
    },
    {
      "cell_type": "code",
      "source": [
        "aug = naw.SynonymAug()\n",
        "n = len(sqStr)\n",
        "n = 5\n",
        "#I used 5 in place of len(sqStr) for n beacause of time limitation.\n",
        "\n",
        "augmented_data = []\n",
        "for i in range(0,n):\n",
        "  augmented_data += aug.augment(sqStr[i])\n",
        "\n",
        "print('**Augmented data**')\n",
        "for i in range(0,n):\n",
        "  print(augmented_data[i])\n",
        "\n",
        "print('**Real data**')\n",
        "for i in range(0,n):\n",
        "  print(sqStr[i])"
      ],
      "metadata": {
        "colab": {
          "base_uri": "https://localhost:8080/"
        },
        "id": "2lAJiyr6-NrJ",
        "outputId": "70656970-788f-48ca-ddcb-1e6307ccea46"
      },
      "execution_count": null,
      "outputs": [
        {
          "output_type": "stream",
          "name": "stdout",
          "text": [
            "**Augmented data**\n",
            "Beyoncé Giselle Knowles - Carter (/ biːˈjɒnseɪ / bee - YON - say) (born September 4, 1981) is an American singer, songwriter, record producer and actress. Born and bring up in Houston, Texas, she performed in various singing and dancing competitions as a child, and rose to fame in the late 1990s as lead vocaliser of Roentgen & B girl - group Destiny ' s Nestling. Managed by her father, Mathew Knowles, the group became one of the world ' s best - selling girl groups of all time. Their hiatus saw the release of Beyoncé ' s introduction album, Dangerously in Love (2003 ), which established her as a solo artist worldwide, earned quint Grammy Awards and have the Billboard Hot 100 number - one singles \" Crazy in Love \" and \" Baby Boy \".\n",
            "Beyoncé Giselle Knowles - Carter (/ biːˈjɒnseɪ / bee - YON - say) (born September 4, 1981) is an American singer, songwriter, disc producer and actress. Born and raised in Houston, Texas, she performed in various singing and dancing competitions as a child, and rose to fame in the late 1990s as lead singer of R & B girl - group Destiny ' s Child. Managed by her father, Mathew Knowles, the group became one of the world ' s good - selling girl groups of all time. Their hiatus saw the release of Beyoncé ' s debut album, Dangerously in Love (2003 ), which established her as a solo artist worldwide, earned five Grammy Awards and feature the Hoarding Hot 100 number - one singles \" Crazy in Love \" and \" Baby Boy \".\n",
            "Beyoncé Giselle Knowles - Carter (/ biːˈjɒnseɪ / bee - YON - say) (born September 4, 1981) is an American singer, songwriter, record producer and actress. Born and raised in Houston, Texas, she performed in various singing and dancing competitions as a child, and rose to fame in the late 1990s as lead singer of R & B girl - grouping Destiny ' s Child. Managed by her father, Mathew Knowles, the mathematical group became one of the world ' s best - selling girl groups of all time. Their hiatus saw the liberation of Beyoncé ' s debut album, Dangerously in Love (2003 ), which establish her as a solo artist worldwide, earned 5 Grammy Awards and featured the Billboard Hot 100 number - i single \" Crazy in Love \" and \" Baby Boy \".\n",
            "Beyoncé Giselle Knowles - Carter (/ biːˈjɒnseɪ / bee - YON - say) (born September 4, 1981) be an American singer, songwriter, phonograph recording producer and actress. Born and raise in Houston, Texas, she do in various singing and dancing rival as a child, and rose to fame in the late 1990s as lead vocaliser of R & B girl - group Destiny ' s Child. Managed by her father, Mathew Knowles, the mathematical group became one of the world ' s best - selling girl grouping of all time. Their hiatus saw the release of Beyoncé ' s debut album, Dangerously in Love (2003 ), which established her as a solo artist worldwide, earned five Grammy Awards and featured the Billboard Hot 100 number - one singles \" Crazy in Love \" and \" Baby Boy \".\n",
            "Beyoncé Giselle Knowles - Carter (/ biːˈjɒnseɪ / bee - YON - say) (born September 4, 1981) is an American singer, songwriter, record producer and actress. Born and raised in Houston, Texas, she perform in various singing and dancing competitions as a child, and rose to fame in the late 1990s as lead singer of R & B girl - group Destiny ' s Child. Managed by her father, Mathew Knowles, the group became one of the world ' s best - selling girl groups of all time. Their hiatus examine the release of Beyoncé ' s debut album, Dangerously in Love (2003 ), which established her as a solo creative person worldwide, earned five Grammy Awards and featured the Billboard Hot 100 issue - one singles \" Crazy in Love \" and \" Baby Son \".\n",
            "**Real data**\n",
            "Beyoncé Giselle Knowles-Carter (/biːˈjɒnseɪ/ bee-YON-say) (born September 4, 1981) is an American singer, songwriter, record producer and actress. Born and raised in Houston, Texas, she performed in various singing and dancing competitions as a child, and rose to fame in the late 1990s as lead singer of R&B girl-group Destiny's Child. Managed by her father, Mathew Knowles, the group became one of the world's best-selling girl groups of all time. Their hiatus saw the release of Beyoncé's debut album, Dangerously in Love (2003), which established her as a solo artist worldwide, earned five Grammy Awards and featured the Billboard Hot 100 number-one singles \"Crazy in Love\" and \"Baby Boy\".\n",
            "Beyoncé Giselle Knowles-Carter (/biːˈjɒnseɪ/ bee-YON-say) (born September 4, 1981) is an American singer, songwriter, record producer and actress. Born and raised in Houston, Texas, she performed in various singing and dancing competitions as a child, and rose to fame in the late 1990s as lead singer of R&B girl-group Destiny's Child. Managed by her father, Mathew Knowles, the group became one of the world's best-selling girl groups of all time. Their hiatus saw the release of Beyoncé's debut album, Dangerously in Love (2003), which established her as a solo artist worldwide, earned five Grammy Awards and featured the Billboard Hot 100 number-one singles \"Crazy in Love\" and \"Baby Boy\".\n",
            "Beyoncé Giselle Knowles-Carter (/biːˈjɒnseɪ/ bee-YON-say) (born September 4, 1981) is an American singer, songwriter, record producer and actress. Born and raised in Houston, Texas, she performed in various singing and dancing competitions as a child, and rose to fame in the late 1990s as lead singer of R&B girl-group Destiny's Child. Managed by her father, Mathew Knowles, the group became one of the world's best-selling girl groups of all time. Their hiatus saw the release of Beyoncé's debut album, Dangerously in Love (2003), which established her as a solo artist worldwide, earned five Grammy Awards and featured the Billboard Hot 100 number-one singles \"Crazy in Love\" and \"Baby Boy\".\n",
            "Beyoncé Giselle Knowles-Carter (/biːˈjɒnseɪ/ bee-YON-say) (born September 4, 1981) is an American singer, songwriter, record producer and actress. Born and raised in Houston, Texas, she performed in various singing and dancing competitions as a child, and rose to fame in the late 1990s as lead singer of R&B girl-group Destiny's Child. Managed by her father, Mathew Knowles, the group became one of the world's best-selling girl groups of all time. Their hiatus saw the release of Beyoncé's debut album, Dangerously in Love (2003), which established her as a solo artist worldwide, earned five Grammy Awards and featured the Billboard Hot 100 number-one singles \"Crazy in Love\" and \"Baby Boy\".\n",
            "Beyoncé Giselle Knowles-Carter (/biːˈjɒnseɪ/ bee-YON-say) (born September 4, 1981) is an American singer, songwriter, record producer and actress. Born and raised in Houston, Texas, she performed in various singing and dancing competitions as a child, and rose to fame in the late 1990s as lead singer of R&B girl-group Destiny's Child. Managed by her father, Mathew Knowles, the group became one of the world's best-selling girl groups of all time. Their hiatus saw the release of Beyoncé's debut album, Dangerously in Love (2003), which established her as a solo artist worldwide, earned five Grammy Awards and featured the Billboard Hot 100 number-one singles \"Crazy in Love\" and \"Baby Boy\".\n"
          ]
        }
      ]
    }
  ]
}